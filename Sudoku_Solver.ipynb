{
  "cells": [
    {
      "cell_type": "markdown",
      "metadata": {
        "id": "ErFXTZ15_xh6"
      },
      "source": [
        "# **Sudoku Solver**"
      ]
    },
    {
      "cell_type": "markdown",
      "metadata": {
        "id": "Vn1cw_yVyhb8"
      },
      "source": [
        "# Introduction"
      ]
    },
    {
      "cell_type": "markdown",
      "metadata": {
        "id": "6IGLPKkvRoU7"
      },
      "source": [
        "Many real world problems, can be classified as  constraint Satisfaction Problems. for instance *Scheduling, building design, planning, optimization/satisfaction, Sudoku and Crossword Puzzles and* ...\n",
        "\n",
        "In a constraint satisfaction problem (CSP) each state is represented in factored way, meaning that there is a set of variables in each state which each of them has a value. The problem is solved when each variable has a value that satisfies all the constraints on that variable.\n",
        "\n",
        "CSP search algorithms take advantage of the structure of states and use general-purpose heuristics rather than problem-specific heuristics to enable the solution of complex problems.\n",
        "\n",
        "The main idea is to eliminate large portions of the search space all at once by identifying the variable-value combinations that violate the contraints.\n",
        "\n",
        "The CSP consist of three components:\n",
        "* X : set of variables {x1, ..., xn}\n",
        "* D : set of domains {D1, ..., Dn}\n",
        "* C : set of constraints {C1, ..., Cn}  Ci=<scope, rel> in which scope is the tuple of variables participating in the constraint and rel is a relation that defines the values that those variable can take on.\n",
        "\n",
        "There are different algorithms for solving a CSP including:\n",
        "* **Forward checking**\n",
        "* **Constraint Propagation (AC-3)**\n",
        "* **Backtracking**\n",
        "\n",
        "\n",
        "\n",
        "These problems also can be solved by **Itterative improving algorithms** like local search algorithms (Hillclimbing).\n",
        "In these algorithms the path to find the goal is irrelevant and the goal state itself is the solution.\n",
        "In these algorithms, the state space is a set of complete configurations and the task is to find:\n",
        "\n",
        "1.   Optimal configuration\n",
        "2.   Configuration satisfying the constraints\n",
        "\n",
        "\n",
        " > This project aims to implement different algorithms for solving a Sudoku puzzle including **Backtracking**, **Hillclimbing with random restart** and **Simulated annealing** and comparing the performance of each method by testing them on multiple Sudoku instances.\n",
        "\n",
        "## Sudoku\n",
        "\n",
        "Sudoku (meaning single digit in Japanese) originated form 19th century became popular in 80s.\n",
        "\n",
        "\n",
        "#### Rules\n",
        "\n",
        "\n",
        "\n",
        "\n",
        "The constraints of Sudoku consists of:\n",
        "* Each square must have a number between 1-9\n",
        "* Each number 1-9 can only occure once in a house (  house is the row, column and a block of a cell)\n",
        "\n",
        "\n",
        "A proper sudoku game has one unique solution and there must be at least 17 clues (Given values) in order to have a unique solution.\n",
        "\n",
        "The difficulty of the game can be evaluated by:\n",
        "* Number of Givens\n",
        "* Average possibilities per empty cell\n",
        "* Techniques required to solve the puzzle"
      ]
    },
    {
      "cell_type": "markdown",
      "metadata": {
        "id": "zWzpHgRJwYjO"
      },
      "source": [
        "# Dataset"
      ]
    },
    {
      "cell_type": "markdown",
      "metadata": {
        "id": "pqZeNj0y2nUx"
      },
      "source": [
        "The dataset used for this project contains 29682 Sudoku puzzles and their solutions which is sourced from kaggle.\n",
        "It consists of 5 columns:\n",
        "\n",
        "\n",
        "1.   **id**: Unique id number for each puzzle          \n",
        "2.   **puzzle**: The puzzle as a string of 81 characters. Periods indicate unknown values\n",
        "3.   **solution**: The completed Sudoku grid as a string of 81 digits between 1 and 9\n",
        "4.   **clues**: Number of clues or givens in the puzzle\n",
        "5.   **difficulty**: Estimated difficulty rating of the puzzle\n",
        "\n",
        "\n",
        "The level of difficulty varies and most puzzles have between 23 and 26 clues. The minimum number of clues in the dataset is 19, and the maximum is 31. It has been shown that 17 is the minimum number of clues for a valid, uniquely solvable Sudoku puzzle. However, these puzzles are difficult to find, so they are not included in our dataset.\n",
        "\n",
        "The difficulty rating is computed by an automated solver and it is based on the average search tree depth over 10 attempts. 43% of the puzzles have a difficulty of zero, meaning that it can be solved using a simple scanning technique. The highest difficulty rating is 8.5.\n",
        "\n",
        "In this project, three levels of difficulty are distinguished by the ratings:\n",
        "\n",
        "* Easy  [0.0 - 2.5]\n",
        "\n",
        "* Medium   (2.5 - 4.5)\n",
        "\n",
        "* Hard   [4.5 - 8.5]"
      ]
    },
    {
      "cell_type": "code",
      "execution_count": null,
      "metadata": {
        "id": "oU-MtpZnOkQz"
      },
      "outputs": [],
      "source": [
        "import random\n",
        "import numpy as np\n",
        "import pandas as pd\n",
        "import copy\n",
        "import time\n",
        "import math"
      ]
    },
    {
      "cell_type": "code",
      "execution_count": null,
      "metadata": {
        "id": "djTZXC0J6HwJ",
        "colab": {
          "base_uri": "https://localhost:8080/",
          "height": 419
        },
        "outputId": "07ac6230-0870-4be0-9043-cee4ed08e3e2"
      },
      "outputs": [
        {
          "output_type": "execute_result",
          "data": {
            "text/plain": [
              "          id                                             puzzle  \\\n",
              "0          1  1..5.37..6.3..8.9......98...1.......8761.........   \n",
              "1          2  ...81.....2........1.9..7...7..25.934.2..........   \n",
              "2          3  ..5...74.3..6...19.....1..5...7...2.9....58..7...   \n",
              "3          4  ........5.2...9....9..2...373..481.....36....5...   \n",
              "4          5  .4.1..............653.....1.8.9..74...24..91.....   \n",
              "...      ...                                                ...   \n",
              "29674  29675  .....2..1.1.7..92.....8..7.6.2....143....86......   \n",
              "29675  29676  ....12..6......4.9...3..7....8..5...6..1..3..2...   \n",
              "29676  29677  5...........2....3...56..2.1....7.5..8....3..7...   \n",
              "29677  29678  .46.2....87.....29..9..1.......7.31...4.8....7...   \n",
              "29678  29679  ..4...21.....4........6..93......7.2.2...9..56...   \n",
              "\n",
              "                                                solution  clues  difficulty  \n",
              "0      1985437266432785915276198439147352688761924352...   27.0         2.2  \n",
              "1      9348172567286534196159427381764258934523981673...   23.0         0.0  \n",
              "2      2159837463876542194692713855387169249413258677...   25.0         2.6  \n",
              "3      4738169256285397411954278637329481569413652785...   26.0         1.4  \n",
              "4      9471536821286493576532874913819267455724389164...   25.0         1.1  \n",
              "...                                                  ...    ...         ...  \n",
              "29674  7385924615147639289261843756523798143914286574...   25.0         0.0  \n",
              "29675  4739128568215764395693487213187652946951243782...   23.0         2.8  \n",
              "29676  5281734966972485134135697281468372599856123477...   25.0         2.4  \n",
              "29677  1467298538736541292598314676829753143142867957...   25.0         0.0  \n",
              "29678  9643572182389415675718624931596347828237196456...   23.0         0.0  \n",
              "\n",
              "[29679 rows x 5 columns]"
            ],
            "text/html": [
              "\n",
              "  <div id=\"df-92e0d0a0-8645-414f-b370-a70630b28bed\" class=\"colab-df-container\">\n",
              "    <div>\n",
              "<style scoped>\n",
              "    .dataframe tbody tr th:only-of-type {\n",
              "        vertical-align: middle;\n",
              "    }\n",
              "\n",
              "    .dataframe tbody tr th {\n",
              "        vertical-align: top;\n",
              "    }\n",
              "\n",
              "    .dataframe thead th {\n",
              "        text-align: right;\n",
              "    }\n",
              "</style>\n",
              "<table border=\"1\" class=\"dataframe\">\n",
              "  <thead>\n",
              "    <tr style=\"text-align: right;\">\n",
              "      <th></th>\n",
              "      <th>id</th>\n",
              "      <th>puzzle</th>\n",
              "      <th>solution</th>\n",
              "      <th>clues</th>\n",
              "      <th>difficulty</th>\n",
              "    </tr>\n",
              "  </thead>\n",
              "  <tbody>\n",
              "    <tr>\n",
              "      <th>0</th>\n",
              "      <td>1</td>\n",
              "      <td>1..5.37..6.3..8.9......98...1.......8761.........</td>\n",
              "      <td>1985437266432785915276198439147352688761924352...</td>\n",
              "      <td>27.0</td>\n",
              "      <td>2.2</td>\n",
              "    </tr>\n",
              "    <tr>\n",
              "      <th>1</th>\n",
              "      <td>2</td>\n",
              "      <td>...81.....2........1.9..7...7..25.934.2..........</td>\n",
              "      <td>9348172567286534196159427381764258934523981673...</td>\n",
              "      <td>23.0</td>\n",
              "      <td>0.0</td>\n",
              "    </tr>\n",
              "    <tr>\n",
              "      <th>2</th>\n",
              "      <td>3</td>\n",
              "      <td>..5...74.3..6...19.....1..5...7...2.9....58..7...</td>\n",
              "      <td>2159837463876542194692713855387169249413258677...</td>\n",
              "      <td>25.0</td>\n",
              "      <td>2.6</td>\n",
              "    </tr>\n",
              "    <tr>\n",
              "      <th>3</th>\n",
              "      <td>4</td>\n",
              "      <td>........5.2...9....9..2...373..481.....36....5...</td>\n",
              "      <td>4738169256285397411954278637329481569413652785...</td>\n",
              "      <td>26.0</td>\n",
              "      <td>1.4</td>\n",
              "    </tr>\n",
              "    <tr>\n",
              "      <th>4</th>\n",
              "      <td>5</td>\n",
              "      <td>.4.1..............653.....1.8.9..74...24..91.....</td>\n",
              "      <td>9471536821286493576532874913819267455724389164...</td>\n",
              "      <td>25.0</td>\n",
              "      <td>1.1</td>\n",
              "    </tr>\n",
              "    <tr>\n",
              "      <th>...</th>\n",
              "      <td>...</td>\n",
              "      <td>...</td>\n",
              "      <td>...</td>\n",
              "      <td>...</td>\n",
              "      <td>...</td>\n",
              "    </tr>\n",
              "    <tr>\n",
              "      <th>29674</th>\n",
              "      <td>29675</td>\n",
              "      <td>.....2..1.1.7..92.....8..7.6.2....143....86......</td>\n",
              "      <td>7385924615147639289261843756523798143914286574...</td>\n",
              "      <td>25.0</td>\n",
              "      <td>0.0</td>\n",
              "    </tr>\n",
              "    <tr>\n",
              "      <th>29675</th>\n",
              "      <td>29676</td>\n",
              "      <td>....12..6......4.9...3..7....8..5...6..1..3..2...</td>\n",
              "      <td>4739128568215764395693487213187652946951243782...</td>\n",
              "      <td>23.0</td>\n",
              "      <td>2.8</td>\n",
              "    </tr>\n",
              "    <tr>\n",
              "      <th>29676</th>\n",
              "      <td>29677</td>\n",
              "      <td>5...........2....3...56..2.1....7.5..8....3..7...</td>\n",
              "      <td>5281734966972485134135697281468372599856123477...</td>\n",
              "      <td>25.0</td>\n",
              "      <td>2.4</td>\n",
              "    </tr>\n",
              "    <tr>\n",
              "      <th>29677</th>\n",
              "      <td>29678</td>\n",
              "      <td>.46.2....87.....29..9..1.......7.31...4.8....7...</td>\n",
              "      <td>1467298538736541292598314676829753143142867957...</td>\n",
              "      <td>25.0</td>\n",
              "      <td>0.0</td>\n",
              "    </tr>\n",
              "    <tr>\n",
              "      <th>29678</th>\n",
              "      <td>29679</td>\n",
              "      <td>..4...21.....4........6..93......7.2.2...9..56...</td>\n",
              "      <td>9643572182389415675718624931596347828237196456...</td>\n",
              "      <td>23.0</td>\n",
              "      <td>0.0</td>\n",
              "    </tr>\n",
              "  </tbody>\n",
              "</table>\n",
              "<p>29679 rows × 5 columns</p>\n",
              "</div>\n",
              "    <div class=\"colab-df-buttons\">\n",
              "\n",
              "  <div class=\"colab-df-container\">\n",
              "    <button class=\"colab-df-convert\" onclick=\"convertToInteractive('df-92e0d0a0-8645-414f-b370-a70630b28bed')\"\n",
              "            title=\"Convert this dataframe to an interactive table.\"\n",
              "            style=\"display:none;\">\n",
              "\n",
              "  <svg xmlns=\"http://www.w3.org/2000/svg\" height=\"24px\" viewBox=\"0 -960 960 960\">\n",
              "    <path d=\"M120-120v-720h720v720H120Zm60-500h600v-160H180v160Zm220 220h160v-160H400v160Zm0 220h160v-160H400v160ZM180-400h160v-160H180v160Zm440 0h160v-160H620v160ZM180-180h160v-160H180v160Zm440 0h160v-160H620v160Z\"/>\n",
              "  </svg>\n",
              "    </button>\n",
              "\n",
              "  <style>\n",
              "    .colab-df-container {\n",
              "      display:flex;\n",
              "      gap: 12px;\n",
              "    }\n",
              "\n",
              "    .colab-df-convert {\n",
              "      background-color: #E8F0FE;\n",
              "      border: none;\n",
              "      border-radius: 50%;\n",
              "      cursor: pointer;\n",
              "      display: none;\n",
              "      fill: #1967D2;\n",
              "      height: 32px;\n",
              "      padding: 0 0 0 0;\n",
              "      width: 32px;\n",
              "    }\n",
              "\n",
              "    .colab-df-convert:hover {\n",
              "      background-color: #E2EBFA;\n",
              "      box-shadow: 0px 1px 2px rgba(60, 64, 67, 0.3), 0px 1px 3px 1px rgba(60, 64, 67, 0.15);\n",
              "      fill: #174EA6;\n",
              "    }\n",
              "\n",
              "    .colab-df-buttons div {\n",
              "      margin-bottom: 4px;\n",
              "    }\n",
              "\n",
              "    [theme=dark] .colab-df-convert {\n",
              "      background-color: #3B4455;\n",
              "      fill: #D2E3FC;\n",
              "    }\n",
              "\n",
              "    [theme=dark] .colab-df-convert:hover {\n",
              "      background-color: #434B5C;\n",
              "      box-shadow: 0px 1px 3px 1px rgba(0, 0, 0, 0.15);\n",
              "      filter: drop-shadow(0px 1px 2px rgba(0, 0, 0, 0.3));\n",
              "      fill: #FFFFFF;\n",
              "    }\n",
              "  </style>\n",
              "\n",
              "    <script>\n",
              "      const buttonEl =\n",
              "        document.querySelector('#df-92e0d0a0-8645-414f-b370-a70630b28bed button.colab-df-convert');\n",
              "      buttonEl.style.display =\n",
              "        google.colab.kernel.accessAllowed ? 'block' : 'none';\n",
              "\n",
              "      async function convertToInteractive(key) {\n",
              "        const element = document.querySelector('#df-92e0d0a0-8645-414f-b370-a70630b28bed');\n",
              "        const dataTable =\n",
              "          await google.colab.kernel.invokeFunction('convertToInteractive',\n",
              "                                                    [key], {});\n",
              "        if (!dataTable) return;\n",
              "\n",
              "        const docLinkHtml = 'Like what you see? Visit the ' +\n",
              "          '<a target=\"_blank\" href=https://colab.research.google.com/notebooks/data_table.ipynb>data table notebook</a>'\n",
              "          + ' to learn more about interactive tables.';\n",
              "        element.innerHTML = '';\n",
              "        dataTable['output_type'] = 'display_data';\n",
              "        await google.colab.output.renderOutput(dataTable, element);\n",
              "        const docLink = document.createElement('div');\n",
              "        docLink.innerHTML = docLinkHtml;\n",
              "        element.appendChild(docLink);\n",
              "      }\n",
              "    </script>\n",
              "  </div>\n",
              "\n",
              "\n",
              "<div id=\"df-ad212e17-9cbe-4888-af1e-1a1721bcc5c1\">\n",
              "  <button class=\"colab-df-quickchart\" onclick=\"quickchart('df-ad212e17-9cbe-4888-af1e-1a1721bcc5c1')\"\n",
              "            title=\"Suggest charts\"\n",
              "            style=\"display:none;\">\n",
              "\n",
              "<svg xmlns=\"http://www.w3.org/2000/svg\" height=\"24px\"viewBox=\"0 0 24 24\"\n",
              "     width=\"24px\">\n",
              "    <g>\n",
              "        <path d=\"M19 3H5c-1.1 0-2 .9-2 2v14c0 1.1.9 2 2 2h14c1.1 0 2-.9 2-2V5c0-1.1-.9-2-2-2zM9 17H7v-7h2v7zm4 0h-2V7h2v10zm4 0h-2v-4h2v4z\"/>\n",
              "    </g>\n",
              "</svg>\n",
              "  </button>\n",
              "\n",
              "<style>\n",
              "  .colab-df-quickchart {\n",
              "      --bg-color: #E8F0FE;\n",
              "      --fill-color: #1967D2;\n",
              "      --hover-bg-color: #E2EBFA;\n",
              "      --hover-fill-color: #174EA6;\n",
              "      --disabled-fill-color: #AAA;\n",
              "      --disabled-bg-color: #DDD;\n",
              "  }\n",
              "\n",
              "  [theme=dark] .colab-df-quickchart {\n",
              "      --bg-color: #3B4455;\n",
              "      --fill-color: #D2E3FC;\n",
              "      --hover-bg-color: #434B5C;\n",
              "      --hover-fill-color: #FFFFFF;\n",
              "      --disabled-bg-color: #3B4455;\n",
              "      --disabled-fill-color: #666;\n",
              "  }\n",
              "\n",
              "  .colab-df-quickchart {\n",
              "    background-color: var(--bg-color);\n",
              "    border: none;\n",
              "    border-radius: 50%;\n",
              "    cursor: pointer;\n",
              "    display: none;\n",
              "    fill: var(--fill-color);\n",
              "    height: 32px;\n",
              "    padding: 0;\n",
              "    width: 32px;\n",
              "  }\n",
              "\n",
              "  .colab-df-quickchart:hover {\n",
              "    background-color: var(--hover-bg-color);\n",
              "    box-shadow: 0 1px 2px rgba(60, 64, 67, 0.3), 0 1px 3px 1px rgba(60, 64, 67, 0.15);\n",
              "    fill: var(--button-hover-fill-color);\n",
              "  }\n",
              "\n",
              "  .colab-df-quickchart-complete:disabled,\n",
              "  .colab-df-quickchart-complete:disabled:hover {\n",
              "    background-color: var(--disabled-bg-color);\n",
              "    fill: var(--disabled-fill-color);\n",
              "    box-shadow: none;\n",
              "  }\n",
              "\n",
              "  .colab-df-spinner {\n",
              "    border: 2px solid var(--fill-color);\n",
              "    border-color: transparent;\n",
              "    border-bottom-color: var(--fill-color);\n",
              "    animation:\n",
              "      spin 1s steps(1) infinite;\n",
              "  }\n",
              "\n",
              "  @keyframes spin {\n",
              "    0% {\n",
              "      border-color: transparent;\n",
              "      border-bottom-color: var(--fill-color);\n",
              "      border-left-color: var(--fill-color);\n",
              "    }\n",
              "    20% {\n",
              "      border-color: transparent;\n",
              "      border-left-color: var(--fill-color);\n",
              "      border-top-color: var(--fill-color);\n",
              "    }\n",
              "    30% {\n",
              "      border-color: transparent;\n",
              "      border-left-color: var(--fill-color);\n",
              "      border-top-color: var(--fill-color);\n",
              "      border-right-color: var(--fill-color);\n",
              "    }\n",
              "    40% {\n",
              "      border-color: transparent;\n",
              "      border-right-color: var(--fill-color);\n",
              "      border-top-color: var(--fill-color);\n",
              "    }\n",
              "    60% {\n",
              "      border-color: transparent;\n",
              "      border-right-color: var(--fill-color);\n",
              "    }\n",
              "    80% {\n",
              "      border-color: transparent;\n",
              "      border-right-color: var(--fill-color);\n",
              "      border-bottom-color: var(--fill-color);\n",
              "    }\n",
              "    90% {\n",
              "      border-color: transparent;\n",
              "      border-bottom-color: var(--fill-color);\n",
              "    }\n",
              "  }\n",
              "</style>\n",
              "\n",
              "  <script>\n",
              "    async function quickchart(key) {\n",
              "      const quickchartButtonEl =\n",
              "        document.querySelector('#' + key + ' button');\n",
              "      quickchartButtonEl.disabled = true;  // To prevent multiple clicks.\n",
              "      quickchartButtonEl.classList.add('colab-df-spinner');\n",
              "      try {\n",
              "        const charts = await google.colab.kernel.invokeFunction(\n",
              "            'suggestCharts', [key], {});\n",
              "      } catch (error) {\n",
              "        console.error('Error during call to suggestCharts:', error);\n",
              "      }\n",
              "      quickchartButtonEl.classList.remove('colab-df-spinner');\n",
              "      quickchartButtonEl.classList.add('colab-df-quickchart-complete');\n",
              "    }\n",
              "    (() => {\n",
              "      let quickchartButtonEl =\n",
              "        document.querySelector('#df-ad212e17-9cbe-4888-af1e-1a1721bcc5c1 button');\n",
              "      quickchartButtonEl.style.display =\n",
              "        google.colab.kernel.accessAllowed ? 'block' : 'none';\n",
              "    })();\n",
              "  </script>\n",
              "</div>\n",
              "    </div>\n",
              "  </div>\n"
            ],
            "application/vnd.google.colaboratory.intrinsic+json": {
              "type": "dataframe",
              "summary": "{\n  \"name\": \"df[:-5]\",\n  \"rows\": 29679,\n  \"fields\": [\n    {\n      \"column\": \"id\",\n      \"properties\": {\n        \"dtype\": \"number\",\n        \"std\": 8567,\n        \"min\": 1,\n        \"max\": 29679,\n        \"num_unique_values\": 29679,\n        \"samples\": [\n          20041,\n          20883,\n          3548\n        ],\n        \"semantic_type\": \"\",\n        \"description\": \"\"\n      }\n    },\n    {\n      \"column\": \"puzzle\",\n      \"properties\": {\n        \"dtype\": \"string\",\n        \"num_unique_values\": 29679,\n        \"samples\": [\n          \"6....9....1.86..57..8.5.......62...38.....14....3..9...542936..2...8............4\",\n          \"6..92.....9...5...4...3..5..8.1...2491...6.......591..3.....7....27...6...4......\",\n          \"..6.......14..3.8.......5.15.8...7.3....7.2...4....1.5...9....21.5.3.....9.2.1...\"\n        ],\n        \"semantic_type\": \"\",\n        \"description\": \"\"\n      }\n    },\n    {\n      \"column\": \"solution\",\n      \"properties\": {\n        \"dtype\": \"string\",\n        \"num_unique_values\": 29679,\n        \"samples\": [\n          \"675439812913862457428157369549621783832975146761348925154293678296784531387516294\",\n          \"635928417798415632421637859586173924917246583243859176369582741152794368874361295\",\n          \"856712934214593687379846521568129743931475268742368195683957412125634879497281356\"\n        ],\n        \"semantic_type\": \"\",\n        \"description\": \"\"\n      }\n    },\n    {\n      \"column\": \"clues\",\n      \"properties\": {\n        \"dtype\": \"number\",\n        \"std\": 1.1039333853679945,\n        \"min\": 20.0,\n        \"max\": 28.0,\n        \"num_unique_values\": 9,\n        \"samples\": [\n          21.0,\n          23.0,\n          22.0\n        ],\n        \"semantic_type\": \"\",\n        \"description\": \"\"\n      }\n    },\n    {\n      \"column\": \"difficulty\",\n      \"properties\": {\n        \"dtype\": \"number\",\n        \"std\": 1.2715861161825037,\n        \"min\": 0.0,\n        \"max\": 7.7,\n        \"num_unique_values\": 57,\n        \"samples\": [\n          2.2,\n          3.7,\n          3.0\n        ],\n        \"semantic_type\": \"\",\n        \"description\": \"\"\n      }\n    }\n  ]\n}"
            }
          },
          "metadata": {},
          "execution_count": 22
        }
      ],
      "source": [
        "df = pd.read_csv(\"/content/drive/MyDrive/Colab Notebooks/AI/sudoku-3m.csv\")\n",
        "df[:-5]"
      ]
    },
    {
      "cell_type": "code",
      "source": [
        "df.shape[0]\n"
      ],
      "metadata": {
        "colab": {
          "base_uri": "https://localhost:8080/"
        },
        "id": "Tmv_4wsC8uKs",
        "outputId": "c65a41ed-0ae3-4907-ed3e-c72486c9edb8"
      },
      "execution_count": null,
      "outputs": [
        {
          "output_type": "execute_result",
          "data": {
            "text/plain": [
              "29684"
            ]
          },
          "metadata": {},
          "execution_count": 23
        }
      ]
    },
    {
      "cell_type": "code",
      "source": [
        "# Convert . to 0 (for converting the strings to integers) and flat array to 9x9 grid\n",
        "gridify = lambda puzzle: [ [0 if char == '.' else int(char) for char in puzzle[i * 9:(i + 1) * 9]] for i in range(9)]"
      ],
      "metadata": {
        "id": "DI86SE3vETEO"
      },
      "execution_count": null,
      "outputs": []
    },
    {
      "cell_type": "code",
      "source": [
        "# Get puzzle and solution by index\n",
        "get_puzzle = lambda index: gridify(df.iloc[index, 1])\n",
        "get_solution = lambda index: gridify(df.iloc[index,2])"
      ],
      "metadata": {
        "id": "9-AZ9mkOMHi5"
      },
      "execution_count": null,
      "outputs": []
    },
    {
      "cell_type": "code",
      "source": [
        "# Get a random puzzle\n",
        "def random_puzzle(seed=None):\n",
        "  random.seed(seed)\n",
        "  index = random.randrange(29684)\n",
        "  idx, puzzle, solution, clues, difficulty = df.loc[index]\n",
        "\n",
        "  return idx-1, gridify(puzzle), gridify(solution), difficulty\n",
        "\n",
        "random_puzzle()"
      ],
      "metadata": {
        "colab": {
          "base_uri": "https://localhost:8080/"
        },
        "collapsed": true,
        "id": "dAzWDMxMCo22",
        "outputId": "beb18f4f-908a-4c42-becf-d1641b1b3efc"
      },
      "execution_count": null,
      "outputs": [
        {
          "output_type": "execute_result",
          "data": {
            "text/plain": [
              "(7429,\n",
              " [[4, 8, 0, 0, 3, 7, 0, 0, 0],\n",
              "  [0, 2, 0, 0, 0, 0, 0, 1, 0],\n",
              "  [0, 0, 0, 0, 0, 8, 0, 0, 5],\n",
              "  [0, 3, 0, 0, 0, 4, 1, 0, 0],\n",
              "  [8, 9, 6, 0, 0, 0, 0, 0, 0],\n",
              "  [0, 0, 0, 0, 5, 9, 0, 3, 7],\n",
              "  [0, 4, 0, 0, 0, 3, 0, 0, 0],\n",
              "  [0, 0, 0, 0, 4, 0, 0, 0, 0],\n",
              "  [0, 6, 0, 0, 0, 0, 8, 9, 0]],\n",
              " [[4, 8, 5, 1, 3, 7, 9, 2, 6],\n",
              "  [3, 2, 9, 4, 6, 5, 7, 1, 8],\n",
              "  [6, 7, 1, 2, 9, 8, 3, 4, 5],\n",
              "  [5, 3, 7, 6, 2, 4, 1, 8, 9],\n",
              "  [8, 9, 6, 3, 7, 1, 4, 5, 2],\n",
              "  [2, 1, 4, 8, 5, 9, 6, 3, 7],\n",
              "  [9, 4, 2, 7, 8, 3, 5, 6, 1],\n",
              "  [1, 5, 8, 9, 4, 6, 2, 7, 3],\n",
              "  [7, 6, 3, 5, 1, 2, 8, 9, 4]],\n",
              " 0.0)"
            ]
          },
          "metadata": {},
          "execution_count": 26
        }
      ]
    },
    {
      "cell_type": "code",
      "execution_count": null,
      "metadata": {
        "id": "J08xEO6Wezqd"
      },
      "outputs": [],
      "source": [
        "# Print game board\n",
        "def print_board(grid):\n",
        "  separator = \"+-------+-------+-------+\"\n",
        "\n",
        "  for i, row in enumerate(grid):\n",
        "    if i % 3 == 0:\n",
        "      print(separator)\n",
        "\n",
        "    row_formatted = \"| {} {} {} | {} {} {} | {} {} {} |\".format(*(str(num) if num != 0 else '.' for num in row))\n",
        "    print(row_formatted)\n",
        "  print(separator)"
      ]
    },
    {
      "cell_type": "code",
      "source": [
        "# Categorize difficulty to 3 level\n",
        "def categorize_difficulty(difficulty):\n",
        "  if difficulty <= 2.5:\n",
        "    return 'easy'\n",
        "  elif difficulty >= 4.5:\n",
        "    return 'hard'\n",
        "  else:\n",
        "    return 'medium'\n",
        "\n",
        "# Get indexes of n instance of target difficulty level\n",
        "def find_puzzles_by_difficulty(df, target_difficulty, n):\n",
        "  puzzle_indexes = []\n",
        "  for i, row in df.iterrows():\n",
        "    difficulty = row['difficulty']\n",
        "    level = categorize_difficulty(difficulty)\n",
        "    if level == target_difficulty:\n",
        "      puzzle_indexes.append(i)\n",
        "    if len(puzzle_indexes) == n:\n",
        "      break\n",
        "  return puzzle_indexes"
      ],
      "metadata": {
        "id": "y_2FBYE2ADkb"
      },
      "execution_count": null,
      "outputs": []
    },
    {
      "cell_type": "markdown",
      "metadata": {
        "id": "_X9qzdqdzIT4"
      },
      "source": [
        "# **Backtracking**"
      ]
    },
    {
      "cell_type": "markdown",
      "metadata": {
        "id": "vz3cRUAYcOHp"
      },
      "source": [
        "The term backtracking search is used for a depth-first search that assigns values to one variable at a time, backtracking when no legal values are left. It repeatedly selects an unassigned cell, tries all possible values, and checks for a solution. If an inconsistency is detected, it backtracks to try another value.\n",
        "\n",
        "The sudoku solving with backtracking algorithm initializes sets to track numbers in rows, columns, and blocks, and identifies empty cells. It checks the validity of placing a number in a cell and recursively tries valid numbers, backtracking as needed. The algorithm measures the time taken and returns the solved board or indicates if no solution is found."
      ]
    },
    {
      "cell_type": "markdown",
      "source": [
        "The initialize_sets function initializes and populates sets to track the numbers in each row, column, and 3x3 block of a 9x9 Sudoku grid, and identifies empty cells. It iterates through each cell of the grid, adding numbers to the appropriate sets and recording the coordinates of empty cells. It returns these sets and the list of empty cells for use in solving the Sudoku puzzle."
      ],
      "metadata": {
        "id": "T7FavNkj99cf"
      }
    },
    {
      "cell_type": "code",
      "source": [
        "def initialize_sets(grid):\n",
        "  rows = [set() for _ in range(9)]\n",
        "  cols = [set() for _ in range(9)]\n",
        "  blocks = [set() for _ in range(9)]\n",
        "  empty_cells = []\n",
        "\n",
        "  for i in range(9):\n",
        "    for j in range(9):\n",
        "      num = grid[i][j]\n",
        "      if num != 0:\n",
        "        rows[i].add(num)\n",
        "        cols[j].add(num)\n",
        "        blocks[(i // 3) * 3 + (j // 3)].add(num)\n",
        "      else:\n",
        "        empty_cells.append((i, j))\n",
        "\n",
        "  return rows, cols, blocks, empty_cells"
      ],
      "metadata": {
        "id": "1xd0-5us8H8q"
      },
      "execution_count": null,
      "outputs": []
    },
    {
      "cell_type": "markdown",
      "source": [
        "The check_valid function checks if placing a given number in a specified cell of the Sudoku grid is valid. It uses the provided sets for rows, columns, and blocks to determine if the number already exists in the same row, column, or 3x3 block. If the number is found in any of these sets, the function returns False; otherwise, it returns True."
      ],
      "metadata": {
        "id": "qxEhnMO6-HlC"
      }
    },
    {
      "cell_type": "code",
      "source": [
        "def check_valid(rows, cols, blocks, row, column, num):\n",
        "  block_idx = (row // 3) * 3 + (column // 3)\n",
        "  if num in rows[row] or num in cols[column] or num in blocks[block_idx]:\n",
        "    return False\n",
        "  return True"
      ],
      "metadata": {
        "id": "qbKGwCJP8KTu"
      },
      "execution_count": null,
      "outputs": []
    },
    {
      "cell_type": "markdown",
      "source": [
        "The backtracking function solves the Sudoku grid using a backtracking algorithm. It checks if placing a number in an empty cell is valid, tries each number from 1 to 9, and recursively attempts to solve the puzzle. If a solution is found, it returns True; otherwise, it backtracks and tries another number.\n",
        "\n",
        "The sudoku_backtracking function initializes the sets for rows, columns, and blocks, and tracks the empty cells. It then calls the backtracking function and measures the time taken to solve the puzzle, returning the solved board and the solving time if successful, or None and the solving time if no solution is found."
      ],
      "metadata": {
        "id": "Wn9WtWSV-eoX"
      }
    },
    {
      "cell_type": "code",
      "source": [
        "def backtracking(grid, rows, cols, blocks, empty_cells):\n",
        "  if not empty_cells:\n",
        "    return True  # Sudoku is solved\n",
        "\n",
        "  empty_cells.sort(key=lambda cell: len([num for num in range(1, 10) if check_valid(rows, cols, blocks, cell[0], cell[1], num)]))\n",
        "  i, j = empty_cells.pop(0)\n",
        "\n",
        "  for num in range(1, 10):  # 1-9\n",
        "    if check_valid(rows, cols, blocks, i, j, num):\n",
        "      grid[i][j] = num\n",
        "      rows[i].add(num)\n",
        "      cols[j].add(num)\n",
        "      blocks[(i // 3) * 3 + (j // 3)].add(num)\n",
        "\n",
        "      if backtracking(grid, rows, cols, blocks, empty_cells):\n",
        "        return True\n",
        "\n",
        "      grid[i][j] = 0  # Remove the number if not leading to a solution\n",
        "      rows[i].remove(num)\n",
        "      cols[j].remove(num)\n",
        "      blocks[(i // 3) * 3 + (j // 3)].remove(num)\n",
        "\n",
        "  empty_cells.insert(0, (i, j))\n",
        "  return False  # Trigger backtracking\n",
        "\n",
        "def sudoku_backtracking(grid):\n",
        "  board = copy.deepcopy(grid)\n",
        "  rows, cols, blocks, empty_cells = initialize_sets(board)\n",
        "\n",
        "  start_time = time.time()\n",
        "  if backtracking(board, rows, cols, blocks, empty_cells):\n",
        "    end_time = time.time()\n",
        "    solving_time = end_time - start_time\n",
        "    return board, solving_time\n",
        "  else:\n",
        "    end_time = time.time()\n",
        "    solving_time = end_time - start_time\n",
        "    print(\"No solution is found\")\n",
        "    return None, solving_time"
      ],
      "metadata": {
        "id": "UoJvjp53zuch"
      },
      "execution_count": null,
      "outputs": []
    },
    {
      "cell_type": "code",
      "execution_count": null,
      "metadata": {
        "colab": {
          "base_uri": "https://localhost:8080/"
        },
        "id": "G6lAkDXY3Apy",
        "outputId": "5735415f-d0be-4963-e42d-570eee7b539a"
      },
      "outputs": [
        {
          "output_type": "stream",
          "name": "stdout",
          "text": [
            "Solving time: 0.1554s\n",
            "+-------+-------+-------+\n",
            "| 1 6 9 | 5 2 4 | 8 7 3 |\n",
            "| 8 4 5 | 9 7 3 | 1 6 2 |\n",
            "| 3 2 7 | 8 1 6 | 9 4 5 |\n",
            "+-------+-------+-------+\n",
            "| 7 3 4 | 1 8 2 | 5 9 6 |\n",
            "| 5 8 1 | 3 6 9 | 7 2 4 |\n",
            "| 2 9 6 | 4 5 7 | 3 1 8 |\n",
            "+-------+-------+-------+\n",
            "| 9 5 8 | 6 4 1 | 2 3 7 |\n",
            "| 4 1 2 | 7 3 5 | 6 8 9 |\n",
            "| 6 7 3 | 2 9 8 | 4 5 1 |\n",
            "+-------+-------+-------+\n"
          ]
        }
      ],
      "source": [
        "solution, solving_time = sudoku_backtracking(get_puzzle(42))\n",
        "if solution == get_solution(42):\n",
        "  print(f\"Solving time: {solving_time:.4f}s\")\n",
        "  print_board(solution)"
      ]
    },
    {
      "cell_type": "markdown",
      "source": [
        "# **Iterative Improving Algorithms**"
      ],
      "metadata": {
        "id": "AIIaMOV_5BRG"
      }
    },
    {
      "cell_type": "markdown",
      "source": [
        "Iterative improving algorithms such as Hill Climbing and Simulated annealing usualy work with complete states which have all the variables assigned. To apply these algorithms on CSPs, we allow states with unsatisfied constraints and then operators reassign the variable values and try to improve the state iteratively."
      ],
      "metadata": {
        "id": "QOYvLZW75PHJ"
      }
    },
    {
      "cell_type": "markdown",
      "source": [
        "## Helper functions\n",
        "\n",
        "\n",
        "These helper functions are used in both Hillclimbing with Random Restart and Simulated Annealing algorithms.\n"
      ],
      "metadata": {
        "id": "KPGNJGy3AoII"
      }
    },
    {
      "cell_type": "markdown",
      "source": [
        "The initial_solution function fills the empty cells in a 9x9 Sudoku grid with random numbers while ensuring no duplicates in each row. It identifies missing numbers in each row, shuffles them, and assigns them to the empty cells. The function returns the modified grid as an initial candidate solution."
      ],
      "metadata": {
        "id": "BWhZQuHkAuQ1"
      }
    },
    {
      "cell_type": "code",
      "source": [
        "def initial_solution(grid):\n",
        "  for i in range(9):\n",
        "    missing_numbers = [num for num in range(1, 10) if num not in grid[i]]\n",
        "    random.shuffle(missing_numbers)\n",
        "    for j in range(9):\n",
        "      if grid[i][j] == 0:\n",
        "        grid[i][j] = missing_numbers.pop()\n",
        "  return grid"
      ],
      "metadata": {
        "id": "Sn96-uHe6l3k"
      },
      "execution_count": null,
      "outputs": []
    },
    {
      "cell_type": "markdown",
      "source": [
        "The fitness function evaluates the fitness of a 9x9 Sudoku grid by calculating its score based on the uniqueness of numbers in rows, columns, and 3x3 blocks. It sums the count of unique numbers in each row, column, and block. The higher the score, the closer the grid is to a valid Sudoku solution. The function returns this fitness score."
      ],
      "metadata": {
        "id": "YMNgx_gWBNwf"
      }
    },
    {
      "cell_type": "code",
      "source": [
        "def fitness(grid):\n",
        "  score = 0\n",
        "  for i in range(9):\n",
        "    score += len(set(grid[i]))  # Row uniqueness\n",
        "    score += len(set(grid[:, i]))  # Column uniqueness\n",
        "  for i in range(3):\n",
        "    for j in range(3):\n",
        "      block = grid[i*3:(i+1)*3, j*3:(j+1)*3]\n",
        "      score += len(set(block.flatten()))  # Block uniqueness\n",
        "  return score"
      ],
      "metadata": {
        "id": "e0cgpoAt6uDm"
      },
      "execution_count": null,
      "outputs": []
    },
    {
      "cell_type": "markdown",
      "source": [
        "The get_fixed_cells function identifies the fixed cells in a 9x9 Sudoku grid, which are the cells that already contain numbers (i.e., non-zero values). It returns a list of tuples, each representing the coordinates (row, column) of these fixed cells."
      ],
      "metadata": {
        "id": "wZkNxsAOBPoP"
      }
    },
    {
      "cell_type": "code",
      "source": [
        "def get_fixed_cells(grid):\n",
        "  return [(i, j) for i in range(9) for j in range(9) if grid[i][j] != 0]"
      ],
      "metadata": {
        "id": "PjvPcYwo6zrI"
      },
      "execution_count": null,
      "outputs": []
    },
    {
      "cell_type": "markdown",
      "source": [
        "The get_neighbors function generates neighboring states of a given 9x9 Sudoku grid by swapping non-fixed cells within the same row. It iterates through each non-fixed cell and creates new grids by swapping the values with other non-fixed cells in the same row. It returns a list of these neighboring grids."
      ],
      "metadata": {
        "id": "r8pXLcWtBXbP"
      }
    },
    {
      "cell_type": "code",
      "source": [
        "def get_neighbors(grid, fixed):\n",
        "  neighbors = []\n",
        "  for i in range(9):\n",
        "    for j in range(9):\n",
        "      if (i, j) not in fixed:\n",
        "        for k in range(j + 1, 9):\n",
        "          if (i, k) not in fixed:\n",
        "            neighbor = grid.copy()\n",
        "            neighbor[i][j], neighbor[i][k] = neighbor[i][k], neighbor[i][j]\n",
        "            neighbors.append(neighbor)\n",
        "  return neighbors"
      ],
      "metadata": {
        "id": "15qdfZr86Ct6"
      },
      "execution_count": null,
      "outputs": []
    },
    {
      "cell_type": "markdown",
      "metadata": {
        "id": "elAat0IbPBYA"
      },
      "source": [
        "## **Hill Climbing with random restart**"
      ]
    },
    {
      "cell_type": "markdown",
      "source": [
        "The hillclimbing algorithm for solving Sudoku iteratively improves an initial solution (which is achived by randomly filling the input puzzle) by exploring neighboring states and moving to the one with the highest fitness. If no better neighbor is found, it terminates.\n",
        "\n",
        "It's important to note that the hillclimbing algorithm is not guaranteed to find the optimal solution. It may get stuck in local maxima, where further exploration does not improve the fitness. To mitigate this, additional techniques such as random restarts or incorporating other search algorithms can be employed.\n",
        "\n",
        "The random restart variant repeatedly applies the hillclimbing algorithm with different initial solutions to find the best possible solution. The algorithm measures and returns the best solution, its fitness, the number of iterations, and the total solving time."
      ],
      "metadata": {
        "id": "nZE1kJUzCEWw"
      }
    },
    {
      "cell_type": "code",
      "source": [
        "def hill_climbing(grid, fixed):\n",
        "  current = np.array(initial_solution(grid))\n",
        "  current_fitness = fitness(current)\n",
        "  iterations = 0\n",
        "\n",
        "  while True:\n",
        "    neighbors = get_neighbors(current, fixed)\n",
        "    next_state = max(neighbors, key=fitness)\n",
        "    next_fitness = fitness(next_state)\n",
        "    if next_fitness <= current_fitness:\n",
        "      return current.tolist(), current_fitness, iterations\n",
        "    current, current_fitness = next_state, next_fitness\n",
        "    iterations += 1\n",
        "\n",
        "def sudoku_hillclimbing_random(grid, restarts):\n",
        "    board = copy.deepcopy(grid)\n",
        "    fixed = get_fixed_cells(board)\n",
        "    best_solution = None\n",
        "    best_fitness = -1\n",
        "    total_iterations = 0\n",
        "    start_time = time.time()\n",
        "\n",
        "    for _ in range(restarts):\n",
        "      solution, fitness_val, iterations = hill_climbing(board, fixed)\n",
        "      total_iterations += iterations\n",
        "      if fitness_val > best_fitness:\n",
        "        best_solution, best_fitness = solution, fitness_val\n",
        "      if best_fitness == 243:  # Perfect fitness score\n",
        "        break\n",
        "\n",
        "    end_time = time.time()\n",
        "    solving_time = end_time - start_time\n",
        "    return best_solution, best_fitness, total_iterations, solving_time"
      ],
      "metadata": {
        "id": "2zSyYNQz0zao"
      },
      "execution_count": null,
      "outputs": []
    },
    {
      "cell_type": "code",
      "execution_count": null,
      "metadata": {
        "colab": {
          "base_uri": "https://localhost:8080/"
        },
        "id": "JcfPrDDgYpvU",
        "outputId": "2bcfd19a-5a21-4d10-f2a0-28630bf9a63f"
      },
      "outputs": [
        {
          "output_type": "stream",
          "name": "stdout",
          "text": [
            "Fitness: 230, Iterations: 170, Solving time: 2.1205s\n",
            "+-------+-------+-------+\n",
            "| 9 6 4 | 5 2 8 | 1 7 3 |\n",
            "| 8 7 5 | 6 1 3 | 9 4 2 |\n",
            "| 3 2 1 | 9 7 4 | 8 6 5 |\n",
            "+-------+-------+-------+\n",
            "| 7 4 6 | 3 8 2 | 5 9 1 |\n",
            "| 1 8 9 | 5 6 7 | 2 3 4 |\n",
            "| 2 5 7 | 4 1 9 | 3 8 6 |\n",
            "+-------+-------+-------+\n",
            "| 7 9 1 | 2 5 6 | 4 3 8 |\n",
            "| 8 3 2 | 7 4 5 | 6 1 9 |\n",
            "| 4 6 3 | 1 9 8 | 7 2 5 |\n",
            "+-------+-------+-------+\n"
          ]
        }
      ],
      "source": [
        "solution, fitness_val, iterations, solving_time = sudoku_hillclimbing_random(get_puzzle(42),10)\n",
        "print(f\"Fitness: {fitness_val}, Iterations: {iterations}, Solving time: {solving_time:.4f}s\")\n",
        "print_board(solution)"
      ]
    },
    {
      "cell_type": "markdown",
      "source": [
        "## **Hillclimbing with simulated annealing**"
      ],
      "metadata": {
        "id": "We91ATxPIkJh"
      }
    },
    {
      "cell_type": "markdown",
      "source": [
        "The simulated annealing algorithm for solving Sudoku starts with an initial solution and iteratively explores neighboring states. The algorithm probabilistically accepts worse solutions based on the temperature, which gradually decreases according to the cooling rate. This allows the algorithm to escape local optima. The function returns the best solution found, its fitness, and the number of iterations.\n",
        "\n",
        "The sudoku_hillclimbing_simulated function initializes the grid and fixed cells, applies the simulated annealing algorithm, and measures the solving time, returning the best solution, its fitness, the number of iterations, and the solving time."
      ],
      "metadata": {
        "id": "anrfgJHeD5GM"
      }
    },
    {
      "cell_type": "code",
      "source": [
        "def simulated_annealing(grid, fixed, initial_temp, cooling_rate, max_iterations):\n",
        "  current = np.array(initial_solution(grid))\n",
        "  current_fitness = fitness(current)\n",
        "  best_solution = current\n",
        "  best_fitness = current_fitness\n",
        "  temperature = initial_temp\n",
        "  iterations = 0\n",
        "\n",
        "  while temperature > 1 and iterations < max_iterations:\n",
        "    neighbors = get_neighbors(current, fixed)\n",
        "    next_state = random.choice(neighbors)\n",
        "    next_fitness = fitness(next_state)\n",
        "\n",
        "    if next_fitness > current_fitness:\n",
        "      current, current_fitness = next_state, next_fitness\n",
        "    else:\n",
        "      delta = next_fitness - current_fitness\n",
        "      probability = math.exp(delta / temperature)\n",
        "      if random.random() < probability:\n",
        "        current, current_fitness = next_state, next_fitness\n",
        "\n",
        "    if current_fitness > best_fitness:\n",
        "      best_solution, best_fitness = current, current_fitness\n",
        "\n",
        "    temperature *= cooling_rate\n",
        "    iterations += 1\n",
        "\n",
        "  return best_solution.tolist(), best_fitness, iterations\n",
        "\n",
        "def sudoku_hillclimbing_simulated(grid, initial_temp, cooling_rate, max_iterations):\n",
        "  board = copy.deepcopy(grid)\n",
        "  fixed = get_fixed_cells(board)\n",
        "  start_time = time.time()\n",
        "  solution, fitness_val, iterations = simulated_annealing(board, fixed, initial_temp, cooling_rate, max_iterations)\n",
        "  end_time = time.time()\n",
        "  solving_time = end_time - start_time\n",
        "  return solution, fitness_val, iterations, solving_time"
      ],
      "metadata": {
        "id": "1jJP9uu21ktZ"
      },
      "execution_count": null,
      "outputs": []
    },
    {
      "cell_type": "code",
      "source": [
        "solution, fitness_val, iterations, solving_time = sudoku_hillclimbing_simulated(get_puzzle(42),10, 0.99, 10)\n",
        "print(f\"Fitness: {fitness_val}, Iterations: {iterations}, Solving time: {solving_time:.4f}s\")\n",
        "print_board(solution)"
      ],
      "metadata": {
        "id": "zggFvQ4QIvJg",
        "colab": {
          "base_uri": "https://localhost:8080/"
        },
        "outputId": "34cce4c4-072a-42c7-d608-b29eeaf93d5e"
      },
      "execution_count": null,
      "outputs": [
        {
          "output_type": "stream",
          "name": "stdout",
          "text": [
            "Fitness: 202, Iterations: 10, Solving time: 0.0126s\n",
            "+-------+-------+-------+\n",
            "| 8 6 1 | 5 2 9 | 4 7 3 |\n",
            "| 8 7 5 | 9 4 3 | 6 1 2 |\n",
            "| 3 2 4 | 8 9 7 | 1 6 5 |\n",
            "+-------+-------+-------+\n",
            "| 7 3 2 | 4 8 1 | 5 9 6 |\n",
            "| 7 8 9 | 3 6 1 | 5 2 4 |\n",
            "| 6 9 5 | 4 8 7 | 3 1 2 |\n",
            "+-------+-------+-------+\n",
            "| 7 4 2 | 8 6 5 | 9 3 1 |\n",
            "| 9 1 8 | 7 3 5 | 6 4 2 |\n",
            "| 7 5 3 | 4 9 8 | 1 6 2 |\n",
            "+-------+-------+-------+\n"
          ]
        }
      ]
    },
    {
      "cell_type": "markdown",
      "metadata": {
        "id": "QntJpAykM5LX"
      },
      "source": [
        "# Conclusion\n"
      ]
    },
    {
      "cell_type": "markdown",
      "source": [
        "The performance of these algorithms is evaluated based on solving time and fitness score across 600 puzzles of three difficulty levels (easy, medium, and hard). While the backtracking algorithm consistently finds the correct solution, the iterative improving algorithms (Hillclimbing with Random Restart and Simulated Annealing) converge to local optima and do not find the correct solution."
      ],
      "metadata": {
        "id": "UFRKRZaDZWd3"
      }
    },
    {
      "cell_type": "code",
      "source": [
        "n = 200\n",
        "easy_idx = find_puzzles_by_difficulty(df, 'easy', n)\n",
        "medium_idx = find_puzzles_by_difficulty(df, 'medium', n)\n",
        "hard_idx = find_puzzles_by_difficulty(df, 'hard', n)\n",
        "\n",
        "easy_puzzles = [get_puzzle(i) for i in easy_idx]\n",
        "medium_puzzles = [get_puzzle(i) for i in medium_idx]\n",
        "hard_puzzles = [get_puzzle(i) for i in hard_idx]\n",
        "\n",
        "puzzles = {'easy' : easy_puzzles, 'medium' : medium_puzzles, 'hard' : hard_puzzles}"
      ],
      "metadata": {
        "id": "iYby0H09hLWn"
      },
      "execution_count": null,
      "outputs": []
    },
    {
      "cell_type": "code",
      "source": [
        "for difficulty, puzzle_list in puzzles.items():\n",
        "  results = {'time': []}\n",
        "\n",
        "  for i in range(n):\n",
        "    grid = puzzle_list[i]\n",
        "    solver_solution, solving_time = sudoku_backtracking(grid)\n",
        "\n",
        "    results['time'].append(solving_time)\n",
        "\n",
        "  avg_time = sum(results['time']) / n\n",
        "  print(f\"sudoku_backtracking ({difficulty}): Avg Time = {avg_time:.4f}s\\n---------------------\")"
      ],
      "metadata": {
        "colab": {
          "base_uri": "https://localhost:8080/"
        },
        "id": "CDcI106EqHBl",
        "outputId": "388dff6b-b142-4b44-f50a-c0b914476806"
      },
      "execution_count": null,
      "outputs": [
        {
          "output_type": "stream",
          "name": "stdout",
          "text": [
            "sudoku_backtracking (easy): Average Time = 0.0392s\n",
            "---------------------\n",
            "sudoku_backtracking (medium): Average Time = 0.0715s\n",
            "---------------------\n",
            "sudoku_backtracking (hard): Average Time = 0.0965s\n",
            "---------------------\n"
          ]
        }
      ]
    },
    {
      "cell_type": "code",
      "source": [
        "for difficulty, puzzle_list in puzzles.items():\n",
        "  results = {'time': [], 'fitness': [], 'iterations': []}\n",
        "\n",
        "  n=10\n",
        "  for i in range(n):\n",
        "    grid = puzzle_list[i]\n",
        "    solver_solution, best_fitness, iterations, solving_time = sudoku_hillclimbing_random(grid, restarts=10)\n",
        "\n",
        "    results['time'].append(solving_time)\n",
        "    results['fitness'].append(best_fitness)\n",
        "    results['iterations'].append(iterations)\n",
        "\n",
        "  avg_time = sum(results['time']) / n\n",
        "  avg_fitness = sum(results['fitness']) / n\n",
        "  avg_iterations = sum(results['iterations']) / n\n",
        "  print(f\"sudoku_hillclimbing_random ({difficulty}): Avg Time = {avg_time:.4f}s, Avg Fitness = {avg_fitness:.0f}, Avg Iterations = {avg_iterations:.0f}\")\n",
        "  print(\"-------------------------\")"
      ],
      "metadata": {
        "colab": {
          "base_uri": "https://localhost:8080/"
        },
        "id": "dl2KViuwqyXD",
        "outputId": "4083ac27-4998-4887-e8b5-df522dd6f3ba"
      },
      "execution_count": null,
      "outputs": [
        {
          "output_type": "stream",
          "name": "stdout",
          "text": [
            "sudoku_hillclimbing_random (easy): Avg Time = 2.2470s, Avg Fitness = 229, Avg Iterations = 166\n",
            "-------------------------\n",
            "sudoku_hillclimbing_random (medium): Avg Time = 2.5965s, Avg Fitness = 232, Avg Iterations = 176\n",
            "-------------------------\n",
            "sudoku_hillclimbing_random (hard): Avg Time = 2.6014s, Avg Fitness = 230, Avg Iterations = 183\n",
            "-------------------------\n"
          ]
        }
      ]
    },
    {
      "cell_type": "code",
      "source": [
        "for difficulty, puzzle_list in puzzles.items():\n",
        "  results = {'time': [], 'fitness': [], 'iterations': []}\n",
        "\n",
        "  for i in range(n):\n",
        "    grid = puzzle_list[i]\n",
        "    solver_solution, best_fitness, iterations, solving_time = sudoku_hillclimbing_simulated(grid, initial_temp=100, cooling_rate=0.99, max_iterations=1000)\n",
        "\n",
        "    results['time'].append(solving_time)\n",
        "    results['fitness'].append(best_fitness)\n",
        "    results['iterations'].append(iterations)\n",
        "\n",
        "  avg_time = sum(results['time']) / n\n",
        "  avg_fitness = sum(results['fitness']) / n\n",
        "  avg_iterations = sum(results['iterations']) / n\n",
        "  print(f\"sudoku_hillclimbing_simulated ({difficulty}): Avg Time = {avg_time:.4f}s, Avg Fitness = {avg_fitness:.0f} Avg Iterations = {avg_iterations:.0f}\")\n",
        "  print(\"-------------------------\")"
      ],
      "metadata": {
        "colab": {
          "base_uri": "https://localhost:8080/"
        },
        "id": "DwODrQW8Q4LZ",
        "outputId": "a7829169-4fe5-4eae-b71e-d0312bc88a9f"
      },
      "execution_count": null,
      "outputs": [
        {
          "output_type": "stream",
          "name": "stdout",
          "text": [
            "sudoku_hillclimbing_simulated (easy): Avg Time = 0.2647s, Avg Fitness = 210 Avg Iterations = 459\n",
            "-------------------------\n",
            "sudoku_hillclimbing_simulated (medium): Avg Time = 0.2584s, Avg Fitness = 210 Avg Iterations = 459\n",
            "-------------------------\n",
            "sudoku_hillclimbing_simulated (hard): Avg Time = 0.3980s, Avg Fitness = 210 Avg Iterations = 459\n",
            "-------------------------\n"
          ]
        }
      ]
    },
    {
      "cell_type": "markdown",
      "metadata": {
        "id": "eCSFILNlNjyN"
      },
      "source": [
        "# Resources\n",
        "\n",
        "*   Sudoku rules:\n",
        "\n",
        "  https://sudoku2.com/sudoku-tips/how-sudoku-difficulty-is-measured/\n",
        "\n",
        "  https://www.sudokuwiki.org/\n",
        "\n",
        "  https://www.technologyreview.com/2012/01/06/188520/mathematicians-solve-minimum-sudoku-problem/\n",
        "\n",
        "* Dataset :\n",
        "  \n",
        "  https://www.kaggle.com/datasets/radcliffe/3-million-sudoku-puzzles-with-ratings"
      ]
    }
  ],
  "metadata": {
    "colab": {
      "provenance": [],
      "collapsed_sections": [
        "Vn1cw_yVyhb8",
        "zWzpHgRJwYjO",
        "_X9qzdqdzIT4",
        "AIIaMOV_5BRG",
        "KPGNJGy3AoII",
        "elAat0IbPBYA",
        "We91ATxPIkJh",
        "QntJpAykM5LX"
      ]
    },
    "kernelspec": {
      "display_name": "Python 3",
      "name": "python3"
    },
    "language_info": {
      "name": "python"
    }
  },
  "nbformat": 4,
  "nbformat_minor": 0
}